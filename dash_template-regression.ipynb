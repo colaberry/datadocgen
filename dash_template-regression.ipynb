{
 "cells": [
  {
   "cell_type": "code",
   "execution_count": 1,
   "metadata": {},
   "outputs": [
    {
     "ename": "ModuleNotFoundError",
     "evalue": "No module named 'app'",
     "output_type": "error",
     "traceback": [
      "\u001b[0;31m---------------------------------------------------------------------------\u001b[0m",
      "\u001b[0;31mModuleNotFoundError\u001b[0m                       Traceback (most recent call last)",
      "\u001b[0;32m<ipython-input-1-451d48d1d051>\u001b[0m in \u001b[0;36m<module>\u001b[0;34m()\u001b[0m\n\u001b[1;32m      4\u001b[0m \u001b[0;32mfrom\u001b[0m \u001b[0mdash\u001b[0m\u001b[0;34m.\u001b[0m\u001b[0mdependencies\u001b[0m \u001b[0;32mimport\u001b[0m \u001b[0mInput\u001b[0m\u001b[0;34m,\u001b[0m \u001b[0mOutput\u001b[0m\u001b[0;34m\u001b[0m\u001b[0m\n\u001b[1;32m      5\u001b[0m \u001b[0;32mfrom\u001b[0m \u001b[0mtextwrap\u001b[0m \u001b[0;32mimport\u001b[0m \u001b[0mdedent\u001b[0m \u001b[0;32mas\u001b[0m \u001b[0md\u001b[0m\u001b[0;34m\u001b[0m\u001b[0m\n\u001b[0;32m----> 6\u001b[0;31m \u001b[0;32mimport\u001b[0m \u001b[0mapp\u001b[0m\u001b[0;34m\u001b[0m\u001b[0m\n\u001b[0m\u001b[1;32m      7\u001b[0m \u001b[0;34m\u001b[0m\u001b[0m\n\u001b[1;32m      8\u001b[0m layout = html.Div([\n",
      "\u001b[0;31mModuleNotFoundError\u001b[0m: No module named 'app'"
     ]
    }
   ],
   "source": [
    "import dash\n",
    "import dash_core_components as dcc\n",
    "import dash_html_components as html\n",
    "from dash.dependencies import Input, Output\n",
    "from textwrap import dedent as d\n",
    "import app\n",
    "\n",
    "layout = html.Div([\n",
    "            \n",
    "        html.H1(children='Predicting Sales using Regression'),\n",
    "\n",
    "        html.Div(id='main-content', className='row', children=[])\n",
    "        ])\n",
    "\n",
    "\n",
    "for group in groups:\n",
    "    if (\"text_content\"  in getattr(registry[group],'__dict__')):\n",
    "        layout['main-content'].children.append(html.Div([\n",
    "                dcc.Markdown(d(getattr(registry[group], 'text_content'))),\n",
    "            ], style={'width': '60%', 'display': 'inline-block', 'padding': '0 20'}))\n",
    "        \n",
    "    if (\"getData\"  in getattr(registry[group],'__dict__') and \"getLayout\"  in getattr(registry[group],'__dict__')) :\n",
    "        layout['main-content'].children.append(html.Div([\n",
    "            dcc.Graph(\n",
    "            id=group,\n",
    "            figure={\n",
    "                'data': getattr(registry[group], 'getData')(),\n",
    "                'layout': getattr(registry[group], 'getLayout')()\n",
    "\n",
    "            }    \n",
    "        )], style={'width': '60%', 'display': 'inline-block', 'padding': '0 20'}))\n"
   ]
  }
 ],
 "metadata": {
  "celltoolbar": "Tags",
  "kernelspec": {
   "display_name": "Python 3",
   "language": "python",
   "name": "python3"
  },
  "language_info": {
   "codemirror_mode": {
    "name": "ipython",
    "version": 3
   },
   "file_extension": ".py",
   "mimetype": "text/x-python",
   "name": "python",
   "nbconvert_exporter": "python",
   "pygments_lexer": "ipython3",
   "version": "3.6.5"
  }
 },
 "nbformat": 4,
 "nbformat_minor": 2
}
