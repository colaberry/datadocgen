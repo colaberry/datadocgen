{
 "cells": [
  {
   "cell_type": "code",
   "execution_count": null,
   "metadata": {},
   "outputs": [],
   "source": [
    "import dash\n",
    "import dash_core_components as dcc\n",
    "import dash_html_components as html\n",
    "from dash.dependencies import Input, Output\n",
    "from textwrap import dedent as d\n",
    "\n",
    "###***Import***###\n",
    "\n",
    "\n",
    "# Here is the Dash App Layout and interaction behaviour defined.\n",
    "app = dash.Dash()\n",
    "server = app.server\n",
    "\n",
    "#Methods for header etc\n",
    "\n",
    "# includes page/full view\n",
    "def get_logo():\n",
    "    logo = html.Div([\n",
    "\n",
    "        html.Div([\n",
    "            html.Img(src='http://www.colaberry.com/wp-content/uploads/2017/09/cropped-u6-1.png', height='40', width='160')\n",
    "        ], className=\"ten columns padded\")\n",
    "\n",
    " \n",
    "    ], className=\"row gs-header\")\n",
    "    return logo\n",
    "\n",
    "\n",
    "def get_header():\n",
    "    header = html.Div([\n",
    "\n",
    "        html.Div([\n",
    "            html.H5(\n",
    "                'Colaberry Data Doc')\n",
    "        ], className=\"twelve columns padded\")\n",
    "\n",
    "    ], className=\"row gs-header gs-text-header\")\n",
    "    return header\n",
    "\n",
    "\n",
    "def get_menu():\n",
    "    menu = html.Div([\n",
    "\n",
    "        dcc.Link('Overview   ', href='/overview', className=\"tab first\"),\n",
    "        ###***Menu***###\n",
    "\n",
    "    ], className=\"row \")\n",
    "    return menu\n",
    "\n",
    "\n",
    "#Layouts\n",
    "## Page layouts\n",
    "overview = html.Div([  # page 1\n",
    "\n",
    "        html.Div([\n",
    "\n",
    "\n",
    "            # Row 3\n",
    "\n",
    "            html.Div([\n",
    "\n",
    "                html.Div([\n",
    "                    html.H6('Colaberry Data Doc Overview page',\n",
    "                            className=\"gs-header gs-text-header padded\")]),\n",
    "            html.Div([\n",
    "                dcc.Markdown(d(\"\"\"\n",
    "                    \n",
    "\n",
    "                    Here is the introduction text for Colaberry's Data Docs and what they are all about.\n",
    "                \"\"\"))\n",
    "            ], className='three columns')\n",
    "\n",
    "                    ])\n",
    "            ])\n",
    "            ])\n",
    "\n",
    "\n",
    "noPage = html.Div([  # 404\n",
    "\n",
    "    html.P([\"404 Page not found\"])\n",
    "\n",
    "    ], className=\"no-page\")\n",
    "\n",
    "# Describe the layout, or the UI, of the app\n",
    "app.layout = html.Div([\n",
    "    dcc.Location(id='url', refresh=False),\n",
    "            # Header\n",
    "            get_logo(),\n",
    "            get_header(),\n",
    "            html.Br([]),\n",
    "            get_menu(),\n",
    "            html.Div(id='page-content')\n",
    "])\n",
    "\n",
    "\n",
    "\n",
    "# Update page\n",
    "@app.callback(dash.dependencies.Output('page-content', 'children'),\n",
    "              [dash.dependencies.Input('url', 'pathname')])\n",
    "def display_page(pathname):\n",
    "    if pathname == '/' or pathname == '/overview':\n",
    "        return overview\n",
    "    ###***Path***###\n",
    "    else:\n",
    "        return noPage    \n"
   ]
  },
  {
   "cell_type": "code",
   "execution_count": null,
   "metadata": {},
   "outputs": [],
   "source": [
    "external_css = [\"https://cdnjs.cloudflare.com/ajax/libs/normalize/7.0.0/normalize.min.css\",\n",
    "                \"https://cdnjs.cloudflare.com/ajax/libs/skeleton/2.0.4/skeleton.min.css\",\n",
    "                \"//fonts.googleapis.com/css?family=Raleway:400,300,600\",\n",
    "                \"https://codepen.io/bcd/pen/KQrXdb.css\",\n",
    "                \"https://maxcdn.bootstrapcdn.com/font-awesome/4.7.0/css/font-awesome.min.css\"]\n",
    "\n",
    "for css in external_css:\n",
    "    app.css.append_css({\"external_url\": css})\n",
    "\n",
    "external_js = [\"https://code.jquery.com/jquery-3.2.1.min.js\",\n",
    "               \"https://codepen.io/bcd/pen/YaXojL.js\"]\n",
    "\n",
    "if __name__ == '__main__':\n",
    "    app.run_server(debug=True)"
   ]
  },
  {
   "cell_type": "markdown",
   "metadata": {
    "tags": [
     "git"
    ]
   },
   "source": [
    "venv\n",
    "*.pyc\n",
    ".DS_Store\n",
    ".env"
   ]
  },
  {
   "cell_type": "markdown",
   "metadata": {
    "tags": [
     "proc"
    ]
   },
   "source": [
    "web: gunicorn app:server\n"
   ]
  }
 ],
 "metadata": {
  "celltoolbar": "Tags",
  "kernelspec": {
   "display_name": "Python 3",
   "language": "python",
   "name": "python3"
  },
  "language_info": {
   "codemirror_mode": {
    "name": "ipython",
    "version": 3
   },
   "file_extension": ".py",
   "mimetype": "text/x-python",
   "name": "python",
   "nbconvert_exporter": "python",
   "pygments_lexer": "ipython3",
   "version": "3.6.5"
  }
 },
 "nbformat": 4,
 "nbformat_minor": 2
}
