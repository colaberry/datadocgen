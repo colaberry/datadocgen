{
 "cells": [
  {
   "cell_type": "code",
   "execution_count": 1,
   "metadata": {},
   "outputs": [],
   "source": [
    "import json\n",
    "\n",
    "input_content_file = 'input-notebook.ipynb'\n",
    "parsed_json = ''\n",
    "with open(input_content_file) as json_data:\n",
    "    parsed_json = json.load(json_data)\n",
    "\n",
    "template_file = 'dash_template.ipynb'\n",
    "template_json = ''\n",
    "with open(template_file) as template_data:\n",
    "    template_json = json.load(template_data)\n",
    "    #print(template_json)"
   ]
  },
  {
   "cell_type": "code",
   "execution_count": 2,
   "metadata": {
    "scrolled": true
   },
   "outputs": [],
   "source": [
    "text_content = ''\n",
    "code_content = ''\n",
    "plot_content = ''\n",
    "cells = parsed_json['cells']\n",
    "for cell in cells:\n",
    "    #print(cell)\n",
    "    #print(\"\"               \"\")\n",
    "    cell_type = cell['cell_type']\n",
    "    if cell_type == 'markdown':\n",
    "        text_cell = cell['source']\n",
    "        for text_line in text_cell:\n",
    "            text_content = text_content + text_line\n",
    "            \n",
    "    if 'metadata' not in cell:\n",
    "        raise ValueError(\"No metadata found\")\n",
    "    if 'tags' not in cell['metadata']:\n",
    "        raise ValueError(\"No tags found\")\n",
    "\n",
    "    if cell_type == 'code' and cell['metadata']['tags'][0] == 'code':\n",
    "        \n",
    "        code_cell = cell['source']\n",
    "        for code_line in code_cell:\n",
    "            code_content = code_content + code_line\n",
    "\n",
    "    if cell_type == 'code' and cell['metadata']['tags'][0] == 'plot':\n",
    "        \n",
    "        plot_cell = cell['source']\n",
    "        for plot_line in plot_cell:\n",
    "            if not plot_line.startswith('iplot'):\n",
    "                plot_content = plot_content + plot_line\n",
    "\n",
    "            \n",
    "#print('Text is : ', text_content)\n",
    "#print('Code is : ', code_content)\n",
    "#print('Plot is : ', plot_content)\n",
    "\n",
    "markdown_content = \"text_content = '''{}'''\".format(text_content)"
   ]
  },
  {
   "cell_type": "code",
   "execution_count": 3,
   "metadata": {},
   "outputs": [],
   "source": [
    "template_content = ''\n",
    "template_cells = template_json['cells']\n",
    "for cell in template_cells:\n",
    "    cell_type = cell['cell_type']\n",
    "    if cell_type == 'code':\n",
    "        template_cell = cell['source']\n",
    "        for template_line in template_cell:\n",
    "            template_content = template_content + template_line\n",
    "\n",
    "#print(template_content)\n"
   ]
  },
  {
   "cell_type": "code",
   "execution_count": 4,
   "metadata": {},
   "outputs": [],
   "source": [
    "fname = 'app-gen.py'\n",
    "data = code_content + \"\\n\" + markdown_content + \"\\n\" + plot_content  + \"\\n\" + template_content\n",
    "\n",
    "with open(fname, 'w') as f:\n",
    "    f.write('{}'.format(data))\n",
    "\n"
   ]
  },
  {
   "cell_type": "code",
   "execution_count": null,
   "metadata": {},
   "outputs": [
    {
     "name": "stdout",
     "output_type": "stream",
     "text": [
      "{'text/html': \"<script>requirejs.config({paths: { 'plotly': ['https://cdn.plot.ly/plotly-latest.min']},});if(!window.Plotly) {{require(['plotly'],function(plotly) {window.Plotly=plotly;});}}</script>\", 'text/vnd.plotly.v1+html': \"<script>requirejs.config({paths: { 'plotly': ['https://cdn.plot.ly/plotly-latest.min']},});if(!window.Plotly) {{require(['plotly'],function(plotly) {window.Plotly=plotly;});}}</script>\"}\n",
      " * Running on http://127.0.0.1:8050/ (Press CTRL+C to quit)\n",
      " * Restarting with stat\n",
      "{'text/html': \"<script>requirejs.config({paths: { 'plotly': ['https://cdn.plot.ly/plotly-latest.min']},});if(!window.Plotly) {{require(['plotly'],function(plotly) {window.Plotly=plotly;});}}</script>\", 'text/vnd.plotly.v1+html': \"<script>requirejs.config({paths: { 'plotly': ['https://cdn.plot.ly/plotly-latest.min']},});if(!window.Plotly) {{require(['plotly'],function(plotly) {window.Plotly=plotly;});}}</script>\"}\n",
      " * Debugger is active!\n",
      " * Debugger PIN: 281-871-971\n",
      "127.0.0.1 - - [17/Sep/2018 20:14:46] \"GET / HTTP/1.1\" 200 -\n",
      "127.0.0.1 - - [17/Sep/2018 20:14:47] \"GET /_dash-layout HTTP/1.1\" 200 -\n",
      "127.0.0.1 - - [17/Sep/2018 20:14:47] \"GET /_dash-dependencies HTTP/1.1\" 200 -\n",
      "127.0.0.1 - - [17/Sep/2018 20:14:47] \"GET /static/bWLwgP.css HTTP/1.1\" 404 -\n",
      "127.0.0.1 - - [17/Sep/2018 20:14:48] \"GET /favicon.ico HTTP/1.1\" 200 -\n",
      "127.0.0.1 - - [17/Sep/2018 20:14:58] \"GET / HTTP/1.1\" 200 -\n",
      "127.0.0.1 - - [17/Sep/2018 20:14:59] \"GET /_dash-layout HTTP/1.1\" 200 -\n",
      "127.0.0.1 - - [17/Sep/2018 20:14:59] \"GET /_dash-dependencies HTTP/1.1\" 200 -\n",
      "127.0.0.1 - - [17/Sep/2018 20:14:59] \"GET /static/bWLwgP.css HTTP/1.1\" 404 -\n",
      "127.0.0.1 - - [17/Sep/2018 20:14:59] \"GET /favicon.ico HTTP/1.1\" 200 -\n"
     ]
    }
   ],
   "source": [
    "!python app-gen.py"
   ]
  },
  {
   "cell_type": "code",
   "execution_count": null,
   "metadata": {},
   "outputs": [],
   "source": [
    "from IPython import display\n",
    "\n",
    "port = 8050\n",
    "url = 'http://127.0.0.1:%d' % port\n",
    "iframe = '<iframe src=\"{url}\" width=\"800\" height=\"800\"></iframe>'.format(url=url)\n",
    "display.display_html(iframe, raw=True)\n"
   ]
  },
  {
   "cell_type": "code",
   "execution_count": null,
   "metadata": {},
   "outputs": [],
   "source": [
    "#!sh deploy.sh"
   ]
  }
 ],
 "metadata": {
  "kernelspec": {
   "display_name": "Python 3",
   "language": "python",
   "name": "python3"
  },
  "language_info": {
   "codemirror_mode": {
    "name": "ipython",
    "version": 3
   },
   "file_extension": ".py",
   "mimetype": "text/x-python",
   "name": "python",
   "nbconvert_exporter": "python",
   "pygments_lexer": "ipython3",
   "version": "3.6.5"
  }
 },
 "nbformat": 4,
 "nbformat_minor": 2
}
