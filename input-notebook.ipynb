{
 "cells": [
  {
   "cell_type": "markdown",
   "metadata": {
    "tags": [
     "desc"
    ]
   },
   "source": [
    "This is a sample data doc. This has a text block,a code cell and a Plotly plot. \n",
    "This is the second line of the markdown.\n",
    "There are multiple lines like this.\n",
    "And like this one.\n",
    "This one too.\n",
    "### And heading too"
   ]
  },
  {
   "cell_type": "code",
   "execution_count": 7,
   "metadata": {
    "tags": [
     "code"
    ]
   },
   "outputs": [],
   "source": [
    "import numpy as np\n",
    "x = np.linspace(1,10,7)\n",
    "y = 2*x\n",
    "a =1\n"
   ]
  },
  {
   "cell_type": "code",
   "execution_count": 8,
   "metadata": {
    "tags": [
     "plot"
    ]
   },
   "outputs": [
    {
     "data": {
      "text/html": [
       "<script>requirejs.config({paths: { 'plotly': ['https://cdn.plot.ly/plotly-latest.min']},});if(!window.Plotly) {{require(['plotly'],function(plotly) {window.Plotly=plotly;});}}</script>"
      ],
      "text/vnd.plotly.v1+html": [
       "<script>requirejs.config({paths: { 'plotly': ['https://cdn.plot.ly/plotly-latest.min']},});if(!window.Plotly) {{require(['plotly'],function(plotly) {window.Plotly=plotly;});}}</script>"
      ]
     },
     "metadata": {},
     "output_type": "display_data"
    },
    {
     "data": {
      "application/vnd.plotly.v1+json": {
       "data": [
        {
         "mode": "lines",
         "name": "lines",
         "type": "scatter",
         "uid": "4462244c-b503-11e8-84c5-b0359f561c51",
         "x": [
          1,
          3.25,
          5.5,
          7.75,
          10
         ],
         "y": [
          2,
          6.5,
          11,
          15.5,
          20
         ]
        }
       ],
       "layout": {
        "hovermode": "closest",
        "legend": {
         "x": 0,
         "y": 1
        },
        "margin": {
         "b": 40,
         "l": 40,
         "r": 10,
         "t": 10
        },
        "xaxis": {
         "title": "X Value",
         "type": "log"
        },
        "yaxis": {
         "title": "Y Value"
        }
       }
      },
      "text/html": [
       "<div id=\"2e259bf0-3c35-4e9c-a1f0-822cdae3df0f\" style=\"height: 525px; width: 100%;\" class=\"plotly-graph-div\"></div><script type=\"text/javascript\">require([\"plotly\"], function(Plotly) { window.PLOTLYENV=window.PLOTLYENV || {};window.PLOTLYENV.BASE_URL=\"https://plot.ly\";Plotly.newPlot(\"2e259bf0-3c35-4e9c-a1f0-822cdae3df0f\", [{\"mode\": \"lines\", \"name\": \"lines\", \"x\": [1.0, 3.25, 5.5, 7.75, 10.0], \"y\": [2.0, 6.5, 11.0, 15.5, 20.0], \"type\": \"scatter\", \"uid\": \"4462244d-b503-11e8-84c5-b0359f561c51\"}], {\"hovermode\": \"closest\", \"legend\": {\"x\": 0, \"y\": 1}, \"margin\": {\"b\": 40, \"l\": 40, \"r\": 10, \"t\": 10}, \"xaxis\": {\"title\": \"X Value\", \"type\": \"log\"}, \"yaxis\": {\"title\": \"Y Value\"}}, {\"showLink\": true, \"linkText\": \"Export to plot.ly\"})});</script>"
      ],
      "text/vnd.plotly.v1+html": [
       "<div id=\"2e259bf0-3c35-4e9c-a1f0-822cdae3df0f\" style=\"height: 525px; width: 100%;\" class=\"plotly-graph-div\"></div><script type=\"text/javascript\">require([\"plotly\"], function(Plotly) { window.PLOTLYENV=window.PLOTLYENV || {};window.PLOTLYENV.BASE_URL=\"https://plot.ly\";Plotly.newPlot(\"2e259bf0-3c35-4e9c-a1f0-822cdae3df0f\", [{\"mode\": \"lines\", \"name\": \"lines\", \"x\": [1.0, 3.25, 5.5, 7.75, 10.0], \"y\": [2.0, 6.5, 11.0, 15.5, 20.0], \"type\": \"scatter\", \"uid\": \"4462244d-b503-11e8-84c5-b0359f561c51\"}], {\"hovermode\": \"closest\", \"legend\": {\"x\": 0, \"y\": 1}, \"margin\": {\"b\": 40, \"l\": 40, \"r\": 10, \"t\": 10}, \"xaxis\": {\"title\": \"X Value\", \"type\": \"log\"}, \"yaxis\": {\"title\": \"Y Value\"}}, {\"showLink\": true, \"linkText\": \"Export to plot.ly\"})});</script>"
      ]
     },
     "metadata": {},
     "output_type": "display_data"
    }
   ],
   "source": [
    "import plotly.plotly as py\n",
    "import plotly.graph_objs as go\n",
    "\n",
    "from plotly.offline import download_plotlyjs, init_notebook_mode, plot, iplot\n",
    "init_notebook_mode(connected=True)\n",
    "\n",
    "def getData():\n",
    "    trace0 = go.Scatter(\n",
    "        x = x,\n",
    "        y = y,\n",
    "        mode = 'lines+markers',\n",
    "        name = 'lines'\n",
    "    )\n",
    "    data = [trace0]\n",
    "    return data\n",
    "\n",
    "def getLayout():\n",
    "    layout0 = go.Layout(\n",
    "            xaxis={'type': 'log', 'title': 'X Value'},\n",
    "            yaxis={'title': 'Y Value'},\n",
    "            margin={'l': 40, 'b': 40, 't': 10, 'r': 10},\n",
    "            legend={'x': 0, 'y': 1},\n",
    "            hovermode='closest'\n",
    "        )\n",
    "    return layout0\n",
    "\n",
    "iplot({'data' : getData(), 'layout' : getLayout()})"
   ]
  }
 ],
 "metadata": {
  "celltoolbar": "Tags",
  "kernelspec": {
   "display_name": "Python 3",
   "language": "python",
   "name": "python3"
  },
  "language_info": {
   "codemirror_mode": {
    "name": "ipython",
    "version": 3
   },
   "file_extension": ".py",
   "mimetype": "text/x-python",
   "name": "python",
   "nbconvert_exporter": "python",
   "pygments_lexer": "ipython3",
   "version": "3.6.5"
  }
 },
 "nbformat": 4,
 "nbformat_minor": 2
}
