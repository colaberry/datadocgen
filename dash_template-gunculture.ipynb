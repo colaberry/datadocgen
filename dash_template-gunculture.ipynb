{
 "cells": [
  {
   "cell_type": "code",
   "execution_count": null,
   "metadata": {},
   "outputs": [],
   "source": [
    "import dash\n",
    "import dash_core_components as dcc\n",
    "import dash_html_components as html\n",
    "from dash.dependencies import Input, Output\n",
    "\n",
    "\n",
    "layout = html.Div([\n",
    "\n",
    "           html.H1(children='Gun Culture Analysis'),\n",
    "           html.Div(className='row', children=[\n",
    "        html.Div([\n",
    "                dcc.Markdown(d(text_content)),\n",
    "            ], style={'width': '50%', 'display': 'inline-block'}),\n",
    "            html.Div([\n",
    "            dcc.Graph(\n",
    "            id='advert-graph',\n",
    "            figure={\n",
    "                'data': getData()            }    \n",
    "            )], style={'width': '60%', 'display': 'inline-block', 'padding': '0 20'})]),\n",
    "\n",
    "\n",
    "\n",
    "            ])\n"
   ]
  }
 ],
 "metadata": {
  "celltoolbar": "Tags",
  "kernelspec": {
   "display_name": "Python 3",
   "language": "python",
   "name": "python3"
  },
  "language_info": {
   "codemirror_mode": {
    "name": "ipython",
    "version": 3
   },
   "file_extension": ".py",
   "mimetype": "text/x-python",
   "name": "python",
   "nbconvert_exporter": "python",
   "pygments_lexer": "ipython3",
   "version": "3.6.5"
  }
 },
 "nbformat": 4,
 "nbformat_minor": 2
}
