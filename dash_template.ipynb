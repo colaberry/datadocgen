{
 "cells": [
  {
   "cell_type": "code",
   "execution_count": null,
   "metadata": {},
   "outputs": [],
   "source": [
    "import dash\n",
    "import dash_core_components as dcc\n",
    "import dash_html_components as html\n",
    "from dash.dependencies import Input, Output\n",
    "\n",
    "# Here is the Dash App Layout and interaction behaviour defined.\n",
    "app = dash.Dash()\n",
    "server = app.server\n",
    "\n",
    "#stylesheets = {'stylesheet.css': 'https://codepen.io/chriddyp/pen/bWLwgP.css'}\n",
    "app.layout = html.Div(children=[\n",
    "    html.Link(\n",
    "        rel='stylesheet',\n",
    "        href='/static/bWLwgP.css'\n",
    "    ),\n",
    "    html.H1(children='Demo DataDoc - Autopulled from Jupyter NB '),\n",
    "\n",
    "    html.Div(children=[dcc.Markdown(text_content)]),\n",
    "\n",
    "    html.Div(id='predicted-div'),\n",
    "        dcc.Graph(\n",
    "        id='advert-graph',\n",
    "        figure={\n",
    "            'data': getData(),\n",
    "            'layout': getLayout()\n",
    "        }    \n",
    "    )\n",
    "])"
   ]
  },
  {
   "cell_type": "code",
   "execution_count": null,
   "metadata": {},
   "outputs": [],
   "source": [
    "\n",
    "if __name__ == '__main__':\n",
    "    app.run_server(debug=True)"
   ]
  },
  {
   "cell_type": "markdown",
   "metadata": {
    "tags": [
     "git"
    ]
   },
   "source": [
    "venv\n",
    "*.pyc\n",
    ".DS_Store\n",
    ".env"
   ]
  },
  {
   "cell_type": "markdown",
   "metadata": {
    "tags": [
     "proc"
    ]
   },
   "source": [
    "web: gunicorn app:server\n"
   ]
  }
 ],
 "metadata": {
  "celltoolbar": "Tags",
  "kernelspec": {
   "display_name": "Python 3",
   "language": "python",
   "name": "python3"
  },
  "language_info": {
   "codemirror_mode": {
    "name": "ipython",
    "version": 3
   },
   "file_extension": ".py",
   "mimetype": "text/x-python",
   "name": "python",
   "nbconvert_exporter": "python",
   "pygments_lexer": "ipython3",
   "version": "3.6.5"
  }
 },
 "nbformat": 4,
 "nbformat_minor": 2
}
